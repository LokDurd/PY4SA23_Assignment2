{
 "cells": [
  {
   "cell_type": "markdown",
   "id": "1016136c-2adc-45fe-927e-03d7dd87faea",
   "metadata": {},
   "source": [
    "Lab Assignment 2 - Noah Lambert\n",
    "\n",
    "Student ID: 200020338\n",
    "\n",
    "Repository URL: https://github.com/LokDurd/PY4SA23_Assignment"
   ]
  },
  {
   "cell_type": "markdown",
   "id": "66d6f34c-55c7-4eb7-ae12-11082075c3c6",
   "metadata": {},
   "source": [
    "Part 1 - Python Basics"
   ]
  },
  {
   "cell_type": "code",
   "execution_count": 33,
   "id": "898b6179-ea96-4028-a00e-9184f3320581",
   "metadata": {},
   "outputs": [
    {
     "name": "stdout",
     "output_type": "stream",
     "text": [
      "7 is not divisible by 3.\n"
     ]
    }
   ],
   "source": [
    "import numpy as np\n",
    "import pandas as pd\n",
    "\n",
    "#Task 1\n",
    "\n",
    "x = 7\n",
    "\n",
    "if x%3==0:\n",
    "    print(str(x) + \" is divisible by 3.\") \n",
    "else: \n",
    "    print(str(x) + \" is not divisible by 3.\")"
   ]
  },
  {
   "cell_type": "code",
   "execution_count": 40,
   "id": "3730ad81-8cf5-406b-be87-addd8a14ed40",
   "metadata": {},
   "outputs": [
    {
     "name": "stdout",
     "output_type": "stream",
     "text": [
      "strawberry is acceptable.\n"
     ]
    }
   ],
   "source": [
    "#Task 2\n",
    "fruit_list = ['apple','orange','pear','kiwi','strawberry']\n",
    "my_fruit = 'strawberry'\n",
    "if fruit_list.count(my_fruit) > 0:\n",
    "    print(str(my_fruit) + \" is acceptable.\")\n",
    "else:\n",
    "    print(str(my_fruit) + \" is not acceptable.\")"
   ]
<<<<<<< HEAD
  },
  {
   "cell_type": "code",
   "execution_count": 233,
   "id": "9f4800c9-dd40-487e-94de-d6f211b08512",
   "metadata": {},
   "outputs": [
    {
     "name": "stdout",
     "output_type": "stream",
     "text": [
      "512.0505900942982\n"
     ]
    }
   ],
   "source": [
    "#Task 3\n",
    "import math\n",
    "Earth_Radius = 6371\n",
    "latA = 56.339\n",
    "longA = -2.796\n",
    "latB = 51.744\n",
    "longB = -2.279\n",
    "A_Coordinates = [latA, longA]\n",
    "B_Coordinates = [latB, longB]\n",
    "latA, longA, latB, longB = map(math.radians, [latA, longA, latB, longB])\n",
    "difflat = latB-latA\n",
    "difflong = longB-longA\n",
    "a = math.sin(difflat/2)**2 + math.cos(latA) * math.cos(latB) * math.sin(difflong/2)**2\n",
    "c = 2 * math.asin(math.sqrt(a))\n",
    "d = Earth_Radius * c\n",
    "\n",
    "def distance_between_coordinates(A_Coordinates, B_Coordinates):\n",
    "    return d\n",
    "\n",
    "\n",
    "\n",
    "print(d)"
   ]
  },
  {
   "cell_type": "markdown",
   "id": "688a68ed-225b-4b85-90f0-14659a37da6c",
   "metadata": {},
   "source": [
    "Part 2 - Pandas and Numpy"
   ]
  },
  {
   "cell_type": "code",
   "execution_count": 174,
   "id": "1ae49d11-1776-44f3-ba84-fd8e4d930a42",
   "metadata": {},
   "outputs": [
    {
     "name": "stdout",
     "output_type": "stream",
     "text": [
      "(25534, 40)\n",
      "5675\n"
     ]
    }
   ],
   "source": [
    "#Question 1\n",
    "import numpy as np \n",
    "import pandas as pd \n",
    "trees_df = pd.read_csv(\"Data/portland_park_trees.csv\", sep=\",\", header=0, encoding=\"ISO-8859-1\")\n",
    "trees_df.head()\n",
    "print(trees_df.shape)\n",
    "Quercus_Acer_df = trees_df.query('Genus==\"Quercus\" or Genus==\"Acer\"') \n",
    "print(len(Quercus_Acer_df))"
   ]
  },
  {
   "cell_type": "code",
   "execution_count": 187,
   "id": "13ac00bf-0c10-492f-9a4b-75a20e413842",
   "metadata": {},
   "outputs": [
    {
     "name": "stdout",
     "output_type": "stream",
     "text": [
      "124\n"
     ]
    }
   ],
   "source": [
    "#Question 2\n",
    "Large_Quercus_and_Acer_df = Quercus_Acer_df.query('DBH > 50')\n",
    "print(len(Large_Quercus_and_Acer_df))"
   ]
  },
  {
   "cell_type": "code",
   "execution_count": 192,
   "id": "0c169563-83b6-4b78-b8a4-88a357e21334",
   "metadata": {},
   "outputs": [
    {
     "name": "stdout",
     "output_type": "stream",
     "text": [
      "Mean DBH of Quercus: 23.56823839157492\n",
      "Mean DBH of Acer: 18.419085331846066\n",
      "Mean DBH of Fraxinus: 11.033609693877551\n"
     ]
    }
   ],
   "source": [
    "#Question 3\n",
    "Quercus_df = trees_df.query('Genus==\"Quercus\"')\n",
    "Quercus_df[\"DBH\"].mean()\n",
    "print(\"Mean DBH of Quercus:\", Quercus_df[\"DBH\"].mean())\n",
    "\n",
    "Acer_df = trees_df.query('Genus==\"Acer\"')\n",
    "Acer_df[\"DBH\"].mean()\n",
    "print(\"Mean DBH of Acer:\", Acer_df[\"DBH\"].mean())\n",
    "\n",
    "Fraxinus_df = trees_df.query('Genus==\"Fraxinus\"')\n",
    "Fraxinus_df[\"DBH\"].mean()\n",
    "print(\"Mean DBH of Fraxinus:\", Fraxinus_df[\"DBH\"].mean())"
   ]
  },
  {
   "cell_type": "code",
   "execution_count": 207,
   "id": "05834043-fa7e-4a2c-b1a4-53a2a579719f",
   "metadata": {},
   "outputs": [
    {
     "name": "stdout",
     "output_type": "stream",
     "text": [
      "There are 20  species of Acer\n"
     ]
    }
   ],
   "source": [
    "#Question 4\n",
    "Acer_df[\"Genus_spec\"].nunique()\n",
    "print(\"There are\",len(Acer_df[\"Genus_spec\"].unique()),\" species of Acer\")\n"
   ]
  },
  {
   "cell_type": "code",
   "execution_count": 241,
   "id": "64a037ce-caac-407b-8ea9-fcf6dceb837d",
   "metadata": {},
   "outputs": [
    {
     "data": {
      "text/html": [
       "<div>\n",
       "<style scoped>\n",
       "    .dataframe tbody tr th:only-of-type {\n",
       "        vertical-align: middle;\n",
       "    }\n",
       "\n",
       "    .dataframe tbody tr th {\n",
       "        vertical-align: top;\n",
       "    }\n",
       "\n",
       "    .dataframe thead th {\n",
       "        text-align: right;\n",
       "    }\n",
       "</style>\n",
       "<table border=\"1\" class=\"dataframe\">\n",
       "  <thead>\n",
       "    <tr style=\"text-align: right;\">\n",
       "      <th></th>\n",
       "      <th>city</th>\n",
       "      <th>country</th>\n",
       "      <th>pop</th>\n",
       "      <th>lat</th>\n",
       "      <th>lon</th>\n",
       "      <th>capital</th>\n",
       "      <th>pop_M</th>\n",
       "    </tr>\n",
       "  </thead>\n",
       "  <tbody>\n",
       "    <tr>\n",
       "      <th>0</th>\n",
       "      <td>'Abasan al-Jadidah</td>\n",
       "      <td>Palestine</td>\n",
       "      <td>5629</td>\n",
       "      <td>31.31</td>\n",
       "      <td>34.34</td>\n",
       "      <td>0</td>\n",
       "      <td>0.005629</td>\n",
       "    </tr>\n",
       "    <tr>\n",
       "      <th>1</th>\n",
       "      <td>'Abasan al-Kabirah</td>\n",
       "      <td>Palestine</td>\n",
       "      <td>18999</td>\n",
       "      <td>31.32</td>\n",
       "      <td>34.35</td>\n",
       "      <td>0</td>\n",
       "      <td>0.018999</td>\n",
       "    </tr>\n",
       "    <tr>\n",
       "      <th>2</th>\n",
       "      <td>'Abdul Hakim</td>\n",
       "      <td>Pakistan</td>\n",
       "      <td>47788</td>\n",
       "      <td>30.55</td>\n",
       "      <td>72.11</td>\n",
       "      <td>0</td>\n",
       "      <td>0.047788</td>\n",
       "    </tr>\n",
       "    <tr>\n",
       "      <th>3</th>\n",
       "      <td>'Abdullah-as-Salam</td>\n",
       "      <td>Kuwait</td>\n",
       "      <td>21817</td>\n",
       "      <td>29.36</td>\n",
       "      <td>47.98</td>\n",
       "      <td>0</td>\n",
       "      <td>0.021817</td>\n",
       "    </tr>\n",
       "    <tr>\n",
       "      <th>4</th>\n",
       "      <td>'Abud</td>\n",
       "      <td>Palestine</td>\n",
       "      <td>2456</td>\n",
       "      <td>32.03</td>\n",
       "      <td>35.07</td>\n",
       "      <td>0</td>\n",
       "      <td>0.002456</td>\n",
       "    </tr>\n",
       "  </tbody>\n",
       "</table>\n",
       "</div>"
      ],
      "text/plain": [
       "                 city    country    pop    lat    lon  capital     pop_M\n",
       "0  'Abasan al-Jadidah  Palestine   5629  31.31  34.34        0  0.005629\n",
       "1  'Abasan al-Kabirah  Palestine  18999  31.32  34.35        0  0.018999\n",
       "2        'Abdul Hakim   Pakistan  47788  30.55  72.11        0  0.047788\n",
       "3  'Abdullah-as-Salam     Kuwait  21817  29.36  47.98        0  0.021817\n",
       "4               'Abud  Palestine   2456  32.03  35.07        0  0.002456"
      ]
     },
     "execution_count": 241,
     "metadata": {},
     "output_type": "execute_result"
    }
   ],
   "source": [
    "#reading in the world cities csv\n",
    "world_cities_df = pd.read_csv(\"Data/world_cities.csv\", sep=\",\", header=0, encoding=\"ISO-8859-1\")\n",
    "#creating a column \"pop_M\" showing population in millions\n",
    "world_cities_df['pop_M'] = world_cities_df['pop']/1000000\n",
    "world_cities_df.head()"
   ]
  },
  {
   "cell_type": "code",
   "execution_count": 240,
   "id": "0000763d-898c-4033-a355-206a92ae5f46",
   "metadata": {},
   "outputs": [
    {
     "data": {
      "text/html": [
       "<div>\n",
       "<style scoped>\n",
       "    .dataframe tbody tr th:only-of-type {\n",
       "        vertical-align: middle;\n",
       "    }\n",
       "\n",
       "    .dataframe tbody tr th {\n",
       "        vertical-align: top;\n",
       "    }\n",
       "\n",
       "    .dataframe thead th {\n",
       "        text-align: right;\n",
       "    }\n",
       "</style>\n",
       "<table border=\"1\" class=\"dataframe\">\n",
       "  <thead>\n",
       "    <tr style=\"text-align: right;\">\n",
       "      <th></th>\n",
       "      <th>city</th>\n",
       "      <th>country</th>\n",
       "      <th>lat</th>\n",
       "      <th>lon</th>\n",
       "      <th>capital</th>\n",
       "      <th>pop_M</th>\n",
       "    </tr>\n",
       "  </thead>\n",
       "  <tbody>\n",
       "    <tr>\n",
       "      <th>0</th>\n",
       "      <td>'Abasan al-Jadidah</td>\n",
       "      <td>Palestine</td>\n",
       "      <td>31.31</td>\n",
       "      <td>34.34</td>\n",
       "      <td>0</td>\n",
       "      <td>0.005629</td>\n",
       "    </tr>\n",
       "    <tr>\n",
       "      <th>1</th>\n",
       "      <td>'Abasan al-Kabirah</td>\n",
       "      <td>Palestine</td>\n",
       "      <td>31.32</td>\n",
       "      <td>34.35</td>\n",
       "      <td>0</td>\n",
       "      <td>0.018999</td>\n",
       "    </tr>\n",
       "    <tr>\n",
       "      <th>2</th>\n",
       "      <td>'Abdul Hakim</td>\n",
       "      <td>Pakistan</td>\n",
       "      <td>30.55</td>\n",
       "      <td>72.11</td>\n",
       "      <td>0</td>\n",
       "      <td>0.047788</td>\n",
       "    </tr>\n",
       "    <tr>\n",
       "      <th>3</th>\n",
       "      <td>'Abdullah-as-Salam</td>\n",
       "      <td>Kuwait</td>\n",
       "      <td>29.36</td>\n",
       "      <td>47.98</td>\n",
       "      <td>0</td>\n",
       "      <td>0.021817</td>\n",
       "    </tr>\n",
       "    <tr>\n",
       "      <th>4</th>\n",
       "      <td>'Abud</td>\n",
       "      <td>Palestine</td>\n",
       "      <td>32.03</td>\n",
       "      <td>35.07</td>\n",
       "      <td>0</td>\n",
       "      <td>0.002456</td>\n",
       "    </tr>\n",
       "  </tbody>\n",
       "</table>\n",
       "</div>"
      ],
      "text/plain": [
       "                 city    country    lat    lon  capital     pop_M\n",
       "0  'Abasan al-Jadidah  Palestine  31.31  34.34        0  0.005629\n",
       "1  'Abasan al-Kabirah  Palestine  31.32  34.35        0  0.018999\n",
       "2        'Abdul Hakim   Pakistan  30.55  72.11        0  0.047788\n",
       "3  'Abdullah-as-Salam     Kuwait  29.36  47.98        0  0.021817\n",
       "4               'Abud  Palestine  32.03  35.07        0  0.002456"
      ]
     },
     "execution_count": 240,
     "metadata": {},
     "output_type": "execute_result"
    }
   ],
   "source": [
    "#removing the original \"pop\" column\n",
    "world_cities_df = world_cities_df.drop('pop', axis=1)\n",
    "world_cities_df.head()"
   ]
  },
  {
   "cell_type": "code",
   "execution_count": 242,
   "id": "43e06a72-5c89-4cd8-8fc2-3a1e0bcf47db",
   "metadata": {},
   "outputs": [
    {
     "data": {
      "text/plain": [
       "city       Novosibirsk\n",
       "country         Russia\n",
       "pop            1417107\n",
       "lat              55.04\n",
       "lon              82.93\n",
       "capital              0\n",
       "pop_M         1.417107\n",
       "Name: 26493, dtype: object"
      ]
     },
     "execution_count": 242,
     "metadata": {},
     "output_type": "execute_result"
    }
   ],
   "source": [
    "#subsetting a city that starts with \"N\" - Novosibirsk\n",
    "Novosibirsk = world_cities_df.loc[26493]\n",
    "Novosibirsk"
   ]
  },
  {
   "cell_type": "code",
   "execution_count": 246,
   "id": "0baa3dde-c236-496d-b5b1-d68e3bd692ba",
   "metadata": {},
   "outputs": [
    {
     "name": "stdout",
     "output_type": "stream",
     "text": [
      "                   city country       pop    lat    lon  capital      pop_M\n",
      "24631            Moscow  Russia  10472629  55.75  37.62        1  10.472629\n",
      "32184  Saint Petersburg  Russia   4014710  59.93  30.32        0   4.014710\n",
      "26493       Novosibirsk  Russia   1417107  55.04  82.93        0   1.417107\n",
      "42286     Yekaterinburg  Russia   1285879  56.85  60.60        0   1.285879\n",
      "26153  Nizhniy Novgorod  Russia   1275318  56.33  44.00        0   1.275318\n"
     ]
    }
   ],
   "source": [
    "#subsetting the five largest cities from the country of the selected city\n",
    "Russian_cities_df = world_cities_df.query('country == \"Russia\"')\n",
    "largest_5_Russian_cities = Russian_cities_df.nlargest(5, 'pop_M')\n",
    "print(largest_5_Russian_cities)"
   ]
=======
>>>>>>> 559c1945cfc1074e58aefed6229a597ab8e039ef
  }
 ],
 "metadata": {
  "kernelspec": {
   "display_name": "Python 3 (ipykernel)",
   "language": "python",
   "name": "python3"
  },
  "language_info": {
   "codemirror_mode": {
    "name": "ipython",
    "version": 3
   },
   "file_extension": ".py",
   "mimetype": "text/x-python",
   "name": "python",
   "nbconvert_exporter": "python",
   "pygments_lexer": "ipython3",
   "version": "3.10.9"
  }
 },
 "nbformat": 4,
 "nbformat_minor": 5
}
